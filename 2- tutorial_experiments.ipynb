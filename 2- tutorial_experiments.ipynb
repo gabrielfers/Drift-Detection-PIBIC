{
 "cells": [
  {
   "cell_type": "markdown",
   "metadata": {},
   "source": [
    "# **1. Importações**"
   ]
  },
  {
   "cell_type": "markdown",
   "metadata": {},
   "source": [
    "## Importação dos Avaliadores"
   ]
  },
  {
   "cell_type": "code",
   "execution_count": 1,
   "metadata": {},
   "outputs": [],
   "source": [
    "#%pip install autorank"
   ]
  },
  {
   "cell_type": "code",
   "execution_count": 2,
   "metadata": {},
   "outputs": [],
   "source": [
    "from utils.FileManager import FileManager\n",
    "import pandas as pd\n",
    "\n",
    "import warnings\n",
    "warnings.filterwarnings(\"ignore\")\n",
    "\n",
    "from autorank import autorank, plot_stats, create_report"
   ]
  },
  {
   "cell_type": "code",
   "execution_count": 3,
   "metadata": {},
   "outputs": [],
   "source": [
    "from avaliacao.AvaliadorDriftBase import AvaliadorBatch\n",
    "from avaliacao.AvaliadorDriftBase import AvaliadorPassivo\n",
    "from experimento.ExperimentoDrift import Experimento"
   ]
  },
  {
   "cell_type": "markdown",
   "metadata": {},
   "source": [
    "## Frameworks"
   ]
  },
  {
   "cell_type": "code",
   "execution_count": 4,
   "metadata": {},
   "outputs": [],
   "source": [
    "# importando o framework\n",
    "from frameLiedson.FrameLiedson import FrameLiedson\n",
    "from frameGabriel.SmartWindow import SmartWindow"
   ]
  },
  {
   "cell_type": "markdown",
   "metadata": {},
   "source": [
    "## Importação dos Detectores"
   ]
  },
  {
   "cell_type": "code",
   "execution_count": 5,
   "metadata": {},
   "outputs": [],
   "source": [
    "# Importando detectores de drift\n",
    "from detectores.ADWINDetector import ADWINDetector\n",
    "from detectores.DDMDetector import DDMDetector\n",
    "from detectores.EDDMDetector import EDDMDetector\n",
    "from detectores.FHDDMDetector import FHDDMDetector\n",
    "from detectores.HDDM_ADetector import HDDM_ADetector\n",
    "from detectores.PageHinkleyDetector import PageHinkleyDetector\n",
    "from detectores.HDDM_WDetector import HDDM_WDetector\n",
    "from detectores.KSWINDetector import KSWINDetector"
   ]
  },
  {
   "cell_type": "markdown",
   "metadata": {},
   "source": [
    "## Importação dos Regressores Off-line"
   ]
  },
  {
   "cell_type": "code",
   "execution_count": 6,
   "metadata": {},
   "outputs": [],
   "source": [
    "# Importando modelos offline\n",
    "from regressores.modelosOffline.LinearRegressionModelo import LinearRegressionModelo\n",
    "from regressores.modelosOffline.KneighborsRegressorModelo import KneighborsRegressorModelo\n",
    "from regressores.modelosOffline.LassoRegressionModelo import LassoRegressionModelo\n",
    "from regressores.modelosOffline.RidgeRegressionModelo import RidgeRegressionModelo\n",
    "from regressores.modelosOffline.SVRModelo import SVRModelo\n",
    "from regressores.modelosOffline.RandomForestModelo import RandomForestModelo\n",
    "from regressores.modelosOffline.MLPRegressorModelo import MLPRegressorModelo"
   ]
  },
  {
   "cell_type": "markdown",
   "metadata": {},
   "source": [
    "## Importação dos Regressores On-line"
   ]
  },
  {
   "cell_type": "code",
   "execution_count": 7,
   "metadata": {},
   "outputs": [],
   "source": [
    "# Importando modelos online\n",
    "from regressores.modelosOnline.BayesianLinearRegressionModelo import BayesianLinearRegressionModelo\n",
    "from regressores.modelosOnline.HoeffdingTreeRegressorModelo import HoeffdingTreeRegressorModelo\n",
    "from regressores.modelosOnline.KNNRegressorOnlineModelo import KNNRegressorOnlineModelo\n",
    "from regressores.modelosOnline.LinearRegressionOnlineModelo import LinearRegressionOnlineModelo\n",
    "from regressores.modelosOnline.OSELM import OSELMModelo"
   ]
  },
  {
   "cell_type": "markdown",
   "metadata": {},
   "source": [
    "# **2. Definindo os Dados e Parâmetros**"
   ]
  },
  {
   "cell_type": "markdown",
   "metadata": {},
   "source": [
    "## Dados"
   ]
  },
  {
   "cell_type": "code",
   "execution_count": 8,
   "metadata": {},
   "outputs": [],
   "source": [
    "# Lista de séries temporais\n",
    "series = [\n",
    "    \"AAPL\",\n",
    "    \"B3SA3.SA\",\n",
    "    \"IXIC\",\n",
    "    \"DJI\",\n",
    "    \"GSPC\",\n",
    "    \"BVSP\",\n",
    "    \"USDBRLX\"\n",
    "]"
   ]
  },
  {
   "cell_type": "markdown",
   "metadata": {},
   "source": [
    "## Parâmetros"
   ]
  },
  {
   "cell_type": "code",
   "execution_count": 9,
   "metadata": {},
   "outputs": [],
   "source": [
    "# Parâmetros do experimento\n",
    "tamanho_batch = 300\n",
    "lags = 10\n",
    "repeticoes = 3  # Número de execuções para cada modelo-série"
   ]
  },
  {
   "cell_type": "markdown",
   "metadata": {},
   "source": [
    "# **3. Definindo os Modelos e Avaliadores**"
   ]
  },
  {
   "cell_type": "markdown",
   "metadata": {},
   "source": [
    "modelos = [\n",
    "    {\n",
    "        \"nome\": \"LR + HDDMA\",\n",
    "        \"avaliador\": AvaliadorBatch(),\n",
    "        \"modelo\": LinearRegressionModelo,\n",
    "        \"detector\": HDDM_ADetector\n",
    "    },\n",
    "    #{\n",
    "    #    \"nome\": \"KNN + HDDMA\",\n",
    "    #    \"avaliador\": AvaliadorBatch(),\n",
    "    #    \"modelo\": KNNRegressorOnlineModelo,\n",
    "    #    \"detector\": HDDM_ADetector\n",
    "    #},   \n",
    "    {\n",
    "        \"nome\": \"MLP + HDDMA\",\n",
    "        \"avaliador\": AvaliadorBatch(),\n",
    "        \"modelo\": MLPRegressorModelo,\n",
    "        \"detector\": HDDM_ADetector\n",
    "    },\n",
    "    {\n",
    "        \"nome\": \"Lasso + HDDMA\",\n",
    "        \"avaliador\": AvaliadorBatch(),\n",
    "        \"modelo\": LassoRegressionModelo,\n",
    "        \"detector\": HDDM_ADetector\n",
    "    },    \n",
    "    {\n",
    "        \"nome\": \"RF + HDDMA\",\n",
    "        \"avaliador\": AvaliadorBatch(),\n",
    "        \"modelo\": RandomForestModelo,\n",
    "        \"detector\": HDDM_ADetector\n",
    "    },\n",
    "    {\n",
    "        \"nome\": \"Ridge + HDDMA\",\n",
    "        \"avaliador\": AvaliadorBatch(),\n",
    "        \"modelo\": RidgeRegressionModelo,\n",
    "        \"detector\": HDDM_ADetector\n",
    "    },\n",
    "    {\n",
    "        \"nome\": \"SVR + HDDMA\",\n",
    "        \"avaliador\": AvaliadorBatch(),\n",
    "        \"modelo\": SVRModelo,\n",
    "        \"detector\": HDDM_ADetector\n",
    "    },   \n",
    "\n",
    "\n",
    "    {\n",
    "        \"nome\": \"BayesianLinear\",\n",
    "        \"avaliador\": AvaliadorPassivo(),\n",
    "        \"modelo\": BayesianLinearRegressionModelo,\n",
    "        \"detector\": None  # Passivo, não usa detector\n",
    "    },\n",
    "    {\n",
    "        \"nome\": \"HoeffdingTree\",\n",
    "        \"avaliador\": AvaliadorPassivo(),\n",
    "        \"modelo\": HoeffdingTreeRegressorModelo,\n",
    "        \"detector\": None  # Passivo, não usa detector\n",
    "    },\n",
    "    {\n",
    "        \"nome\": \"KNNRegressorOnline\",\n",
    "        \"avaliador\": AvaliadorPassivo(),\n",
    "        \"modelo\": KNNRegressorOnlineModelo,\n",
    "        \"detector\": None  # Passivo, não usa detector\n",
    "    },\n",
    "    {\n",
    "        \"nome\": \"LinearRegressionOnline\",\n",
    "        \"avaliador\": AvaliadorPassivo(),\n",
    "        \"modelo\": LinearRegressionOnlineModelo,\n",
    "        \"detector\": None  # Passivo, não usa detector\n",
    "    },    \n",
    "]"
   ]
  },
  {
   "cell_type": "markdown",
   "metadata": {},
   "source": [
    "modelos = [\n",
    "    {\n",
    "        \"nome\": \"Ridge + KSWINDetector\",\n",
    "        \"avaliador\": AvaliadorBatch(),\n",
    "        \"modelo\": RidgeRegressionModelo,\n",
    "        \"detector\": KSWINDetector\n",
    "    },\n",
    "    \n",
    "    {\n",
    "        \"nome\": \"Lasso + KSWINDetector\",\n",
    "        \"avaliador\": AvaliadorBatch(),\n",
    "        \"modelo\": LassoRegressionModelo,\n",
    "        \"detector\": KSWINDetector\n",
    "    },\n",
    "\n",
    "    {\n",
    "        \"nome\": \"LR + KSWINDetector\",\n",
    "        \"avaliador\": AvaliadorBatch(),\n",
    "        \"modelo\": LinearRegressionModelo,\n",
    "        \"detector\": KSWINDetector\n",
    "    },\n",
    "    \n",
    "    {\n",
    "        \"nome\": \"BayesianLinear\",\n",
    "        \"avaliador\": AvaliadorPassivo(),\n",
    "        \"modelo\": BayesianLinearRegressionModelo,\n",
    "        \"detector\": None  # Passivo, não usa detector\n",
    "    },\n",
    "    {\n",
    "        \"nome\": \"HoeffdingTree\",\n",
    "        \"avaliador\": AvaliadorPassivo(),\n",
    "        \"modelo\": HoeffdingTreeRegressorModelo,\n",
    "        \"detector\": None  # Passivo, não usa detector\n",
    "    },\n",
    "    {\n",
    "        \"nome\": \"KNNRegressorOnline\",\n",
    "        \"avaliador\": AvaliadorPassivo(),\n",
    "        \"modelo\": KNNRegressorOnlineModelo,\n",
    "        \"detector\": None  # Passivo, não usa detector\n",
    "    },\n",
    "    {\n",
    "        \"nome\": \"LinearRegressionOnline\",\n",
    "        \"avaliador\": AvaliadorPassivo(),\n",
    "        \"modelo\": LinearRegressionOnlineModelo,\n",
    "        \"detector\": None  # Passivo, não usa detector\n",
    "    },    \n",
    "]"
   ]
  },
  {
   "cell_type": "markdown",
   "metadata": {},
   "source": [
    "modelos = [\n",
    "    {\n",
    "        \"nome\": \"LR + KSWIN\",\n",
    "        \"avaliador\": AvaliadorBatch(),\n",
    "        \"modelo\": LinearRegressionModelo,\n",
    "        \"detector\": KSWINDetector\n",
    "    },\n",
    "    {\n",
    "        \"nome\": \"KNN + KSWIN\",\n",
    "        \"avaliador\": AvaliadorBatch(),\n",
    "        \"modelo\": KneighborsRegressorModelo,\n",
    "        \"detector\": KSWINDetector\n",
    "    },   \n",
    "    {\n",
    "        \"nome\": \"MLP + KSWIN\",\n",
    "        \"avaliador\": AvaliadorBatch(),\n",
    "        \"modelo\": MLPRegressorModelo,\n",
    "        \"detector\": KSWINDetector\n",
    "    },\n",
    "    {\n",
    "        \"nome\": \"Lasso + KSWIN\",\n",
    "        \"avaliador\": AvaliadorBatch(),\n",
    "        \"modelo\": LassoRegressionModelo,\n",
    "        \"detector\": KSWINDetector\n",
    "    },    \n",
    "    {\n",
    "        \"nome\": \"RF + KSWIN\",\n",
    "        \"avaliador\": AvaliadorBatch(),\n",
    "        \"modelo\": RandomForestModelo,\n",
    "        \"detector\": KSWINDetector\n",
    "    },\n",
    "    {\n",
    "        \"nome\": \"Ridge + KSWIN\",\n",
    "        \"avaliador\": AvaliadorBatch(),\n",
    "        \"modelo\": RidgeRegressionModelo,\n",
    "        \"detector\": KSWINDetector\n",
    "    },\n",
    "    {\n",
    "        \"nome\": \"SVR + KSWIN\",\n",
    "        \"avaliador\": AvaliadorBatch(),\n",
    "        \"modelo\": SVRModelo,\n",
    "        \"detector\": KSWINDetector\n",
    "    },   \n",
    "\n",
    "\n",
    "    {\n",
    "        \"nome\": \"BayesianLinear\",\n",
    "        \"avaliador\": AvaliadorPassivo(),\n",
    "        \"modelo\": BayesianLinearRegressionModelo,\n",
    "        \"detector\": None  # Passivo, não usa detector\n",
    "    },\n",
    "    {\n",
    "        \"nome\": \"HoeffdingTree\",\n",
    "        \"avaliador\": AvaliadorPassivo(),\n",
    "        \"modelo\": HoeffdingTreeRegressorModelo,\n",
    "        \"detector\": None  # Passivo, não usa detector\n",
    "    },\n",
    "    {\n",
    "        \"nome\": \"KNNRegressorOnline\",\n",
    "        \"avaliador\": AvaliadorPassivo(),\n",
    "        \"modelo\": KNNRegressorOnlineModelo,\n",
    "        \"detector\": None  # Passivo, não usa detector\n",
    "    },\n",
    "    {\n",
    "        \"nome\": \"LinearRegressionOnline\",\n",
    "        \"avaliador\": AvaliadorPassivo(),\n",
    "        \"modelo\": LinearRegressionOnlineModelo,\n",
    "        \"detector\": None  # Passivo, não usa detector\n",
    "    },    \n",
    "]"
   ]
  },
  {
   "cell_type": "markdown",
   "metadata": {},
   "source": [
    "modelos = [\n",
    "    {\n",
    "        \"nome\": \"Ridge + KSWINDetector\",\n",
    "        \"avaliador\": AvaliadorBatch(),\n",
    "        \"modelo\": RidgeRegressionModelo,\n",
    "        \"detector\": KSWINDetector\n",
    "    },\n",
    "    \n",
    "    {\n",
    "        \"nome\": \"Ridge + ADWINDetector\",\n",
    "        \"avaliador\": AvaliadorBatch(),\n",
    "        \"modelo\": RidgeRegressionModelo,\n",
    "        \"detector\": ADWINDetector\n",
    "    },\n",
    "    \n",
    "    {\n",
    "        \"nome\": \"Ridge + DDMDetector\",\n",
    "        \"avaliador\": AvaliadorBatch(),\n",
    "        \"modelo\": RidgeRegressionModelo,\n",
    "        \"detector\": DDMDetector\n",
    "    },\n",
    "     \n",
    "    {\n",
    "        \"nome\": \"Ridge + EDDMDetector\",\n",
    "        \"avaliador\": AvaliadorBatch(),\n",
    "        \"modelo\": RidgeRegressionModelo,\n",
    "        \"detector\": EDDMDetector\n",
    "    },\n",
    "     \n",
    "     \n",
    "     {\n",
    "        \"nome\": \"Ridge + FHDDMDetector\",\n",
    "        \"avaliador\": AvaliadorBatch(),\n",
    "        \"modelo\": RidgeRegressionModelo,\n",
    "        \"detector\": FHDDMDetector\n",
    "    },\n",
    "     \n",
    "    {\n",
    "        \"nome\": \"Ridge + HDDM_ADetector\",\n",
    "        \"avaliador\": AvaliadorBatch(),\n",
    "        \"modelo\": RidgeRegressionModelo,\n",
    "        \"detector\": HDDM_ADetector\n",
    "    },\n",
    "    \n",
    "    {\n",
    "        \"nome\": \"Ridge + PageHinkleyDetector\",\n",
    "        \"avaliador\": AvaliadorBatch(),\n",
    "        \"modelo\": RidgeRegressionModelo,\n",
    "        \"detector\": PageHinkleyDetector\n",
    "    },\n",
    "    \n",
    "    {\n",
    "        \"nome\": \"Ridge + HDDM_WDetector\",\n",
    "        \"avaliador\": AvaliadorBatch(),\n",
    "        \"modelo\": RidgeRegressionModelo,\n",
    "        \"detector\": HDDM_WDetector\n",
    "    },\n",
    "\n",
    "    {\n",
    "        \"nome\": \"BayesianLinear\",\n",
    "        \"avaliador\": AvaliadorPassivo(),\n",
    "        \"modelo\": BayesianLinearRegressionModelo,\n",
    "        \"detector\": None  # Passivo, não usa detector\n",
    "    },\n",
    "    {\n",
    "        \"nome\": \"HoeffdingTree\",\n",
    "        \"avaliador\": AvaliadorPassivo(),\n",
    "        \"modelo\": HoeffdingTreeRegressorModelo,\n",
    "        \"detector\": None  # Passivo, não usa detector\n",
    "    },\n",
    "    {\n",
    "        \"nome\": \"KNNRegressorOnline\",\n",
    "        \"avaliador\": AvaliadorPassivo(),\n",
    "        \"modelo\": KNNRegressorOnlineModelo,\n",
    "        \"detector\": None  # Passivo, não usa detector\n",
    "    },\n",
    "    {\n",
    "        \"nome\": \"LinearRegressionOnline\",\n",
    "        \"avaliador\": AvaliadorPassivo(),\n",
    "        \"modelo\": LinearRegressionOnlineModelo,\n",
    "        \"detector\": None  # Passivo, não usa detector\n",
    "    },    \n",
    "]"
   ]
  },
  {
   "cell_type": "code",
   "execution_count": 10,
   "metadata": {},
   "outputs": [],
   "source": [
    "modelos = [\n",
    "    \n",
    "    \n",
    "    {\n",
    "        \"nome\": \"Gabriel\",\n",
    "        \"avaliador\": SmartWindow(LinearRegressionModelo, KSWINDetector, n_std=0, n_subsamples=20, n_sliding_size = int(tamanho_batch/2)),\n",
    "        \"modelo\": BayesianLinearRegressionModelo,\n",
    "        \"detector\": KSWINDetector\n",
    "    },   \n",
    "    \n",
    "    \n",
    "    {\n",
    "        \"nome\": \"LR + KSWIN\",\n",
    "        \"avaliador\": AvaliadorBatch(),\n",
    "        \"modelo\": LinearRegressionModelo,\n",
    "        \"detector\": KSWINDetector\n",
    "    },\n",
    "      \n",
    "\n",
    "\n",
    "    {\n",
    "        \"nome\": \"BayesianLinear\",\n",
    "        \"avaliador\": AvaliadorPassivo(),\n",
    "        \"modelo\": BayesianLinearRegressionModelo,\n",
    "        \"detector\": None  # Passivo, não usa detector\n",
    "    },\n",
    "    \n",
    "]"
   ]
  },
  {
   "cell_type": "markdown",
   "metadata": {},
   "source": [
    "# **4. Executando o Experimento**"
   ]
  },
  {
   "cell_type": "code",
   "execution_count": 11,
   "metadata": {},
   "outputs": [
    {
     "name": "stdout",
     "output_type": "stream",
     "text": [
      "Executando Gabriel na série: AAPL\n",
      "Executando LR + KSWIN na série: AAPL\n",
      "Executando BayesianLinear na série: AAPL\n",
      "Executando Gabriel na série: B3SA3.SA\n",
      "Executando LR + KSWIN na série: B3SA3.SA\n",
      "Executando BayesianLinear na série: B3SA3.SA\n",
      "Executando Gabriel na série: IXIC\n",
      "Executando LR + KSWIN na série: IXIC\n",
      "Executando BayesianLinear na série: IXIC\n",
      "Executando Gabriel na série: DJI\n",
      "Executando LR + KSWIN na série: DJI\n",
      "Executando BayesianLinear na série: DJI\n",
      "Executando Gabriel na série: GSPC\n",
      "Executando LR + KSWIN na série: GSPC\n",
      "Executando BayesianLinear na série: GSPC\n",
      "Executando Gabriel na série: BVSP\n",
      "Executando LR + KSWIN na série: BVSP\n",
      "Executando BayesianLinear na série: BVSP\n",
      "Executando Gabriel na série: USDBRLX\n",
      "Executando LR + KSWIN na série: USDBRLX\n",
      "Executando BayesianLinear na série: USDBRLX\n"
     ]
    }
   ],
   "source": [
    "# Criando e executando o experimento\n",
    "experimento = Experimento(\n",
    "    series=series,\n",
    "    modelos=modelos,\n",
    "    tamanho_batch=tamanho_batch,\n",
    "    lags=lags,\n",
    "    repeticoes=repeticoes\n",
    ")\n",
    "\n",
    "resultados = experimento.executar()"
   ]
  },
  {
   "cell_type": "code",
   "execution_count": 12,
   "metadata": {},
   "outputs": [
    {
     "name": "stdout",
     "output_type": "stream",
     "text": [
      "\n",
      "Resultados salvos em: Experimento_frameworks.csv\n"
     ]
    },
    {
     "data": {
      "text/plain": [
       "'Experimento_frameworks.csv'"
      ]
     },
     "execution_count": 12,
     "metadata": {},
     "output_type": "execute_result"
    }
   ],
   "source": [
    "# salvando os resultados\n",
    "arquivo_salvamento = \"Experimento_frameworks.csv\"\n",
    "FileManager.salvar_resultados(resultados, arquivo_salvamento)"
   ]
  },
  {
   "cell_type": "markdown",
   "metadata": {},
   "source": [
    "# **5. Análise Estatística dos Resultados**"
   ]
  },
  {
   "cell_type": "markdown",
   "metadata": {},
   "source": [
    "## Leitura dos Resultados"
   ]
  },
  {
   "cell_type": "code",
   "execution_count": 13,
   "metadata": {},
   "outputs": [],
   "source": [
    "# 1. Ler o arquivo CSV\n",
    "df = pd.read_csv(arquivo_salvamento)"
   ]
  },
  {
   "cell_type": "markdown",
   "metadata": {},
   "source": [
    "## Tabelas de Resultados"
   ]
  },
  {
   "cell_type": "code",
   "execution_count": 14,
   "metadata": {},
   "outputs": [],
   "source": [
    "# 3. Agrupar por modelo e calcular estatísticas\n",
    "summary = df.groupby(['serie', 'modelo']).agg(\n",
    "    mae_mean=('mae', 'mean'),\n",
    "    mae_std=('mae', 'std'),\n",
    "    qtd_deteccoes_mean=('qtd_deteccoes', 'mean'),\n",
    "    qtd_deteccoes_std=('qtd_deteccoes', 'std')\n",
    ").reset_index()"
   ]
  },
  {
   "cell_type": "markdown",
   "metadata": {},
   "source": [
    "### Média do MAE"
   ]
  },
  {
   "cell_type": "code",
   "execution_count": 15,
   "metadata": {},
   "outputs": [
    {
     "data": {
      "text/html": [
       "<div>\n",
       "<style scoped>\n",
       "    .dataframe tbody tr th:only-of-type {\n",
       "        vertical-align: middle;\n",
       "    }\n",
       "\n",
       "    .dataframe tbody tr th {\n",
       "        vertical-align: top;\n",
       "    }\n",
       "\n",
       "    .dataframe thead th {\n",
       "        text-align: right;\n",
       "    }\n",
       "</style>\n",
       "<table border=\"1\" class=\"dataframe\">\n",
       "  <thead>\n",
       "    <tr style=\"text-align: right;\">\n",
       "      <th>modelo</th>\n",
       "      <th>BayesianLinear</th>\n",
       "      <th>Gabriel</th>\n",
       "      <th>LR + KSWIN</th>\n",
       "    </tr>\n",
       "    <tr>\n",
       "      <th>serie</th>\n",
       "      <th></th>\n",
       "      <th></th>\n",
       "      <th></th>\n",
       "    </tr>\n",
       "  </thead>\n",
       "  <tbody>\n",
       "    <tr>\n",
       "      <th>AAPL</th>\n",
       "      <td>0.007968</td>\n",
       "      <td>0.006994</td>\n",
       "      <td>0.007500</td>\n",
       "    </tr>\n",
       "    <tr>\n",
       "      <th>B3SA3.SA</th>\n",
       "      <td>0.029469</td>\n",
       "      <td>0.035135</td>\n",
       "      <td>0.043107</td>\n",
       "    </tr>\n",
       "    <tr>\n",
       "      <th>BVSP</th>\n",
       "      <td>0.017539</td>\n",
       "      <td>0.016716</td>\n",
       "      <td>0.016293</td>\n",
       "    </tr>\n",
       "    <tr>\n",
       "      <th>DJI</th>\n",
       "      <td>0.013574</td>\n",
       "      <td>0.013039</td>\n",
       "      <td>0.013548</td>\n",
       "    </tr>\n",
       "    <tr>\n",
       "      <th>GSPC</th>\n",
       "      <td>0.005660</td>\n",
       "      <td>0.005400</td>\n",
       "      <td>0.006378</td>\n",
       "    </tr>\n",
       "    <tr>\n",
       "      <th>IXIC</th>\n",
       "      <td>0.008735</td>\n",
       "      <td>0.008456</td>\n",
       "      <td>0.008131</td>\n",
       "    </tr>\n",
       "    <tr>\n",
       "      <th>USDBRLX</th>\n",
       "      <td>0.019844</td>\n",
       "      <td>0.022787</td>\n",
       "      <td>0.020740</td>\n",
       "    </tr>\n",
       "  </tbody>\n",
       "</table>\n",
       "</div>"
      ],
      "text/plain": [
       "modelo    BayesianLinear   Gabriel  LR + KSWIN\n",
       "serie                                         \n",
       "AAPL            0.007968  0.006994    0.007500\n",
       "B3SA3.SA        0.029469  0.035135    0.043107\n",
       "BVSP            0.017539  0.016716    0.016293\n",
       "DJI             0.013574  0.013039    0.013548\n",
       "GSPC            0.005660  0.005400    0.006378\n",
       "IXIC            0.008735  0.008456    0.008131\n",
       "USDBRLX         0.019844  0.022787    0.020740"
      ]
     },
     "execution_count": 15,
     "metadata": {},
     "output_type": "execute_result"
    }
   ],
   "source": [
    "# Tabela para a média do MAE\n",
    "mae_mean_table = summary.pivot(index='serie', columns='modelo', values='mae_mean')\n",
    "mae_mean_table"
   ]
  },
  {
   "cell_type": "markdown",
   "metadata": {},
   "source": [
    "### Desvio do MAE"
   ]
  },
  {
   "cell_type": "code",
   "execution_count": 16,
   "metadata": {},
   "outputs": [
    {
     "data": {
      "text/html": [
       "<div>\n",
       "<style scoped>\n",
       "    .dataframe tbody tr th:only-of-type {\n",
       "        vertical-align: middle;\n",
       "    }\n",
       "\n",
       "    .dataframe tbody tr th {\n",
       "        vertical-align: top;\n",
       "    }\n",
       "\n",
       "    .dataframe thead th {\n",
       "        text-align: right;\n",
       "    }\n",
       "</style>\n",
       "<table border=\"1\" class=\"dataframe\">\n",
       "  <thead>\n",
       "    <tr style=\"text-align: right;\">\n",
       "      <th>modelo</th>\n",
       "      <th>BayesianLinear</th>\n",
       "      <th>Gabriel</th>\n",
       "      <th>LR + KSWIN</th>\n",
       "    </tr>\n",
       "    <tr>\n",
       "      <th>serie</th>\n",
       "      <th></th>\n",
       "      <th></th>\n",
       "      <th></th>\n",
       "    </tr>\n",
       "  </thead>\n",
       "  <tbody>\n",
       "    <tr>\n",
       "      <th>AAPL</th>\n",
       "      <td>0.0</td>\n",
       "      <td>0.0</td>\n",
       "      <td>0.0</td>\n",
       "    </tr>\n",
       "    <tr>\n",
       "      <th>B3SA3.SA</th>\n",
       "      <td>0.0</td>\n",
       "      <td>0.0</td>\n",
       "      <td>0.0</td>\n",
       "    </tr>\n",
       "    <tr>\n",
       "      <th>BVSP</th>\n",
       "      <td>0.0</td>\n",
       "      <td>0.0</td>\n",
       "      <td>0.0</td>\n",
       "    </tr>\n",
       "    <tr>\n",
       "      <th>DJI</th>\n",
       "      <td>0.0</td>\n",
       "      <td>0.0</td>\n",
       "      <td>0.0</td>\n",
       "    </tr>\n",
       "    <tr>\n",
       "      <th>GSPC</th>\n",
       "      <td>0.0</td>\n",
       "      <td>0.0</td>\n",
       "      <td>0.0</td>\n",
       "    </tr>\n",
       "    <tr>\n",
       "      <th>IXIC</th>\n",
       "      <td>0.0</td>\n",
       "      <td>0.0</td>\n",
       "      <td>0.0</td>\n",
       "    </tr>\n",
       "    <tr>\n",
       "      <th>USDBRLX</th>\n",
       "      <td>0.0</td>\n",
       "      <td>0.0</td>\n",
       "      <td>0.0</td>\n",
       "    </tr>\n",
       "  </tbody>\n",
       "</table>\n",
       "</div>"
      ],
      "text/plain": [
       "modelo    BayesianLinear  Gabriel  LR + KSWIN\n",
       "serie                                        \n",
       "AAPL                 0.0      0.0         0.0\n",
       "B3SA3.SA             0.0      0.0         0.0\n",
       "BVSP                 0.0      0.0         0.0\n",
       "DJI                  0.0      0.0         0.0\n",
       "GSPC                 0.0      0.0         0.0\n",
       "IXIC                 0.0      0.0         0.0\n",
       "USDBRLX              0.0      0.0         0.0"
      ]
     },
     "execution_count": 16,
     "metadata": {},
     "output_type": "execute_result"
    }
   ],
   "source": [
    "# Tabela para o desvio padrão do MAE\n",
    "mae_std_table = summary.pivot(index='serie', columns='modelo', values='mae_std')\n",
    "mae_std_table"
   ]
  },
  {
   "cell_type": "markdown",
   "metadata": {},
   "source": [
    "### Média Detecções"
   ]
  },
  {
   "cell_type": "code",
   "execution_count": 17,
   "metadata": {},
   "outputs": [
    {
     "data": {
      "text/html": [
       "<div>\n",
       "<style scoped>\n",
       "    .dataframe tbody tr th:only-of-type {\n",
       "        vertical-align: middle;\n",
       "    }\n",
       "\n",
       "    .dataframe tbody tr th {\n",
       "        vertical-align: top;\n",
       "    }\n",
       "\n",
       "    .dataframe thead th {\n",
       "        text-align: right;\n",
       "    }\n",
       "</style>\n",
       "<table border=\"1\" class=\"dataframe\">\n",
       "  <thead>\n",
       "    <tr style=\"text-align: right;\">\n",
       "      <th>modelo</th>\n",
       "      <th>BayesianLinear</th>\n",
       "      <th>Gabriel</th>\n",
       "      <th>LR + KSWIN</th>\n",
       "    </tr>\n",
       "    <tr>\n",
       "      <th>serie</th>\n",
       "      <th></th>\n",
       "      <th></th>\n",
       "      <th></th>\n",
       "    </tr>\n",
       "  </thead>\n",
       "  <tbody>\n",
       "    <tr>\n",
       "      <th>AAPL</th>\n",
       "      <td>NaN</td>\n",
       "      <td>21.0</td>\n",
       "      <td>20.0</td>\n",
       "    </tr>\n",
       "    <tr>\n",
       "      <th>B3SA3.SA</th>\n",
       "      <td>NaN</td>\n",
       "      <td>7.0</td>\n",
       "      <td>6.0</td>\n",
       "    </tr>\n",
       "    <tr>\n",
       "      <th>BVSP</th>\n",
       "      <td>NaN</td>\n",
       "      <td>14.0</td>\n",
       "      <td>14.0</td>\n",
       "    </tr>\n",
       "    <tr>\n",
       "      <th>DJI</th>\n",
       "      <td>NaN</td>\n",
       "      <td>13.0</td>\n",
       "      <td>14.0</td>\n",
       "    </tr>\n",
       "    <tr>\n",
       "      <th>GSPC</th>\n",
       "      <td>NaN</td>\n",
       "      <td>41.0</td>\n",
       "      <td>31.0</td>\n",
       "    </tr>\n",
       "    <tr>\n",
       "      <th>IXIC</th>\n",
       "      <td>NaN</td>\n",
       "      <td>19.0</td>\n",
       "      <td>21.0</td>\n",
       "    </tr>\n",
       "    <tr>\n",
       "      <th>USDBRLX</th>\n",
       "      <td>NaN</td>\n",
       "      <td>10.0</td>\n",
       "      <td>9.0</td>\n",
       "    </tr>\n",
       "  </tbody>\n",
       "</table>\n",
       "</div>"
      ],
      "text/plain": [
       "modelo    BayesianLinear  Gabriel  LR + KSWIN\n",
       "serie                                        \n",
       "AAPL                 NaN     21.0        20.0\n",
       "B3SA3.SA             NaN      7.0         6.0\n",
       "BVSP                 NaN     14.0        14.0\n",
       "DJI                  NaN     13.0        14.0\n",
       "GSPC                 NaN     41.0        31.0\n",
       "IXIC                 NaN     19.0        21.0\n",
       "USDBRLX              NaN     10.0         9.0"
      ]
     },
     "execution_count": 17,
     "metadata": {},
     "output_type": "execute_result"
    }
   ],
   "source": [
    "# Tabela para a média das detecções\n",
    "deteccoes_mean_table = summary.pivot(index='serie', columns='modelo', values='qtd_deteccoes_mean')\n",
    "deteccoes_mean_table"
   ]
  },
  {
   "cell_type": "markdown",
   "metadata": {},
   "source": [
    "## Teste Estatístico"
   ]
  },
  {
   "cell_type": "code",
   "execution_count": 18,
   "metadata": {},
   "outputs": [
    {
     "data": {
      "text/html": [
       "<div>\n",
       "<style scoped>\n",
       "    .dataframe tbody tr th:only-of-type {\n",
       "        vertical-align: middle;\n",
       "    }\n",
       "\n",
       "    .dataframe tbody tr th {\n",
       "        vertical-align: top;\n",
       "    }\n",
       "\n",
       "    .dataframe thead th {\n",
       "        text-align: right;\n",
       "    }\n",
       "</style>\n",
       "<table border=\"1\" class=\"dataframe\">\n",
       "  <thead>\n",
       "    <tr style=\"text-align: right;\">\n",
       "      <th></th>\n",
       "      <th>modelo</th>\n",
       "      <th>BayesianLinear</th>\n",
       "      <th>Gabriel</th>\n",
       "      <th>LR + KSWIN</th>\n",
       "    </tr>\n",
       "    <tr>\n",
       "      <th>serie</th>\n",
       "      <th>repeticao</th>\n",
       "      <th></th>\n",
       "      <th></th>\n",
       "      <th></th>\n",
       "    </tr>\n",
       "  </thead>\n",
       "  <tbody>\n",
       "    <tr>\n",
       "      <th rowspan=\"3\" valign=\"top\">AAPL</th>\n",
       "      <th>1</th>\n",
       "      <td>0.007968</td>\n",
       "      <td>0.006994</td>\n",
       "      <td>0.007500</td>\n",
       "    </tr>\n",
       "    <tr>\n",
       "      <th>2</th>\n",
       "      <td>0.007968</td>\n",
       "      <td>0.006994</td>\n",
       "      <td>0.007500</td>\n",
       "    </tr>\n",
       "    <tr>\n",
       "      <th>3</th>\n",
       "      <td>0.007968</td>\n",
       "      <td>0.006994</td>\n",
       "      <td>0.007500</td>\n",
       "    </tr>\n",
       "    <tr>\n",
       "      <th rowspan=\"3\" valign=\"top\">B3SA3.SA</th>\n",
       "      <th>1</th>\n",
       "      <td>0.029469</td>\n",
       "      <td>0.035135</td>\n",
       "      <td>0.043107</td>\n",
       "    </tr>\n",
       "    <tr>\n",
       "      <th>2</th>\n",
       "      <td>0.029469</td>\n",
       "      <td>0.035135</td>\n",
       "      <td>0.043107</td>\n",
       "    </tr>\n",
       "    <tr>\n",
       "      <th>3</th>\n",
       "      <td>0.029469</td>\n",
       "      <td>0.035135</td>\n",
       "      <td>0.043107</td>\n",
       "    </tr>\n",
       "    <tr>\n",
       "      <th rowspan=\"3\" valign=\"top\">BVSP</th>\n",
       "      <th>1</th>\n",
       "      <td>0.017539</td>\n",
       "      <td>0.016716</td>\n",
       "      <td>0.016293</td>\n",
       "    </tr>\n",
       "    <tr>\n",
       "      <th>2</th>\n",
       "      <td>0.017539</td>\n",
       "      <td>0.016716</td>\n",
       "      <td>0.016293</td>\n",
       "    </tr>\n",
       "    <tr>\n",
       "      <th>3</th>\n",
       "      <td>0.017539</td>\n",
       "      <td>0.016716</td>\n",
       "      <td>0.016293</td>\n",
       "    </tr>\n",
       "    <tr>\n",
       "      <th rowspan=\"3\" valign=\"top\">DJI</th>\n",
       "      <th>1</th>\n",
       "      <td>0.013574</td>\n",
       "      <td>0.013039</td>\n",
       "      <td>0.013548</td>\n",
       "    </tr>\n",
       "    <tr>\n",
       "      <th>2</th>\n",
       "      <td>0.013574</td>\n",
       "      <td>0.013039</td>\n",
       "      <td>0.013548</td>\n",
       "    </tr>\n",
       "    <tr>\n",
       "      <th>3</th>\n",
       "      <td>0.013574</td>\n",
       "      <td>0.013039</td>\n",
       "      <td>0.013548</td>\n",
       "    </tr>\n",
       "    <tr>\n",
       "      <th rowspan=\"3\" valign=\"top\">GSPC</th>\n",
       "      <th>1</th>\n",
       "      <td>0.005660</td>\n",
       "      <td>0.005400</td>\n",
       "      <td>0.006378</td>\n",
       "    </tr>\n",
       "    <tr>\n",
       "      <th>2</th>\n",
       "      <td>0.005660</td>\n",
       "      <td>0.005400</td>\n",
       "      <td>0.006378</td>\n",
       "    </tr>\n",
       "    <tr>\n",
       "      <th>3</th>\n",
       "      <td>0.005660</td>\n",
       "      <td>0.005400</td>\n",
       "      <td>0.006378</td>\n",
       "    </tr>\n",
       "    <tr>\n",
       "      <th rowspan=\"3\" valign=\"top\">IXIC</th>\n",
       "      <th>1</th>\n",
       "      <td>0.008735</td>\n",
       "      <td>0.008456</td>\n",
       "      <td>0.008131</td>\n",
       "    </tr>\n",
       "    <tr>\n",
       "      <th>2</th>\n",
       "      <td>0.008735</td>\n",
       "      <td>0.008456</td>\n",
       "      <td>0.008131</td>\n",
       "    </tr>\n",
       "    <tr>\n",
       "      <th>3</th>\n",
       "      <td>0.008735</td>\n",
       "      <td>0.008456</td>\n",
       "      <td>0.008131</td>\n",
       "    </tr>\n",
       "    <tr>\n",
       "      <th rowspan=\"3\" valign=\"top\">USDBRLX</th>\n",
       "      <th>1</th>\n",
       "      <td>0.019844</td>\n",
       "      <td>0.022787</td>\n",
       "      <td>0.020740</td>\n",
       "    </tr>\n",
       "    <tr>\n",
       "      <th>2</th>\n",
       "      <td>0.019844</td>\n",
       "      <td>0.022787</td>\n",
       "      <td>0.020740</td>\n",
       "    </tr>\n",
       "    <tr>\n",
       "      <th>3</th>\n",
       "      <td>0.019844</td>\n",
       "      <td>0.022787</td>\n",
       "      <td>0.020740</td>\n",
       "    </tr>\n",
       "  </tbody>\n",
       "</table>\n",
       "</div>"
      ],
      "text/plain": [
       "modelo              BayesianLinear   Gabriel  LR + KSWIN\n",
       "serie    repeticao                                      \n",
       "AAPL     1                0.007968  0.006994    0.007500\n",
       "         2                0.007968  0.006994    0.007500\n",
       "         3                0.007968  0.006994    0.007500\n",
       "B3SA3.SA 1                0.029469  0.035135    0.043107\n",
       "         2                0.029469  0.035135    0.043107\n",
       "         3                0.029469  0.035135    0.043107\n",
       "BVSP     1                0.017539  0.016716    0.016293\n",
       "         2                0.017539  0.016716    0.016293\n",
       "         3                0.017539  0.016716    0.016293\n",
       "DJI      1                0.013574  0.013039    0.013548\n",
       "         2                0.013574  0.013039    0.013548\n",
       "         3                0.013574  0.013039    0.013548\n",
       "GSPC     1                0.005660  0.005400    0.006378\n",
       "         2                0.005660  0.005400    0.006378\n",
       "         3                0.005660  0.005400    0.006378\n",
       "IXIC     1                0.008735  0.008456    0.008131\n",
       "         2                0.008735  0.008456    0.008131\n",
       "         3                0.008735  0.008456    0.008131\n",
       "USDBRLX  1                0.019844  0.022787    0.020740\n",
       "         2                0.019844  0.022787    0.020740\n",
       "         3                0.019844  0.022787    0.020740"
      ]
     },
     "execution_count": 18,
     "metadata": {},
     "output_type": "execute_result"
    }
   ],
   "source": [
    "# 4. Preparar dados para autorank (uma linha por repetição, colunas por modelo)\n",
    "df_mae = df.pivot_table(index=[\"serie\", \"repeticao\"], columns=\"modelo\", values=\"mae\")\n",
    "# Remover qualquer valor NaN para análise (caso haja)\n",
    "df_mae = df_mae.dropna()\n",
    "# Tabela de desempenho\n",
    "df_mae"
   ]
  },
  {
   "cell_type": "code",
   "execution_count": 19,
   "metadata": {},
   "outputs": [
    {
     "name": "stdout",
     "output_type": "stream",
     "text": [
      "The statistical analysis was conducted for 3 populations with 21 paired samples.\n",
      "The family-wise significance level of the tests is alpha=0.050.\n",
      "We rejected the null hypothesis that the population is normal for the populations BayesianLinear (p=0.013), LR + KSWIN (p=0.000), and Gabriel (p=0.003). Therefore, we assume that not all populations are normal.\n",
      "Because we have more than two populations and the populations and some of them are not normal, we use the non-parametric Friedman test as omnibus test to determine if there are any significant differences between the median values of the populations. We use the post-hoc Nemenyi test to infer which differences are significant. We report the median (MD), the median absolute deviation (MAD) and the mean rank (MR) among all populations over the samples. Differences between populations are significant, if the difference of the mean rank is greater than the critical distance CD=0.723 of the Nemenyi test.\n",
      "We failed to reject the null hypothesis (p=0.180) of the Friedman test that there is no difference in the central tendency of the populations BayesianLinear (MD=-0.014+-0.007, MAD=0.006, MR=2.286), LR + KSWIN (MD=-0.014+-0.007, MAD=0.006, MR=2.000), and Gabriel (MD=-0.013+-0.009, MAD=0.006, MR=1.714). Therefore, we assume that there is no statistically significant difference between the median values of the populations.\n"
     ]
    }
   ],
   "source": [
    "# computing the most appropriate statistical test\n",
    "results = autorank(-df_mae)\n",
    "# printing the report\n",
    "create_report(results)"
   ]
  },
  {
   "cell_type": "code",
   "execution_count": 20,
   "metadata": {},
   "outputs": [
    {
     "data": {
      "text/plain": [
       "<Axes: >"
      ]
     },
     "execution_count": 20,
     "metadata": {},
     "output_type": "execute_result"
    },
    {
     "data": {
      "image/png": "[encoded data removed]",
      "text/plain": [
       "<Figure size 600x145 with 1 Axes>"
      ]
     },
     "metadata": {},
     "output_type": "display_data"
    }
   ],
   "source": [
    "# plotting the results\n",
    "plot_stats(results, allow_insignificant=True)"
   ]
  }
 ],
 "metadata": {
  "kernelspec": {
   "display_name": "Python 3",
   "language": "python",
   "name": "python3"
  },
  "language_info": {
   "codemirror_mode": {
    "name": "ipython",
    "version": 3
   },
   "file_extension": ".py",
   "mimetype": "text/x-python",
   "name": "python",
   "nbconvert_exporter": "python",
   "pygments_lexer": "ipython3",
   "version": "3.12.5"
  }
 },
 "nbformat": 4,
 "nbformat_minor": 2
}
