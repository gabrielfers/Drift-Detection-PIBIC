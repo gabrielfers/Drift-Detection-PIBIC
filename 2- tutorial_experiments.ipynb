{
 "cells": [
  {
   "cell_type": "markdown",
   "metadata": {},
   "source": [
    "# **1. Importações**"
   ]
  },
  {
   "cell_type": "markdown",
   "metadata": {},
   "source": [
    "## Importação dos Avaliadores"
   ]
  },
  {
   "cell_type": "code",
   "execution_count": 21,
   "metadata": {},
   "outputs": [],
   "source": [
    "#%pip install autorank"
   ]
  },
  {
   "cell_type": "code",
   "execution_count": 22,
   "metadata": {},
   "outputs": [],
   "source": [
    "from utils.FileManager import FileManager\n",
    "import pandas as pd\n",
    "\n",
    "import warnings\n",
    "warnings.filterwarnings(\"ignore\")\n",
    "\n",
    "from autorank import autorank, plot_stats, create_report"
   ]
  },
  {
   "cell_type": "code",
   "execution_count": 23,
   "metadata": {},
   "outputs": [],
   "source": [
    "from avaliacao.AvaliadorDriftBase import AvaliadorBatch\n",
    "from avaliacao.AvaliadorDriftBase import AvaliadorPassivo\n",
    "from experimento.ExperimentoDrift import Experimento"
   ]
  },
  {
   "cell_type": "markdown",
   "metadata": {},
   "source": [
    "## Frameworks"
   ]
  },
  {
   "cell_type": "code",
   "execution_count": 24,
   "metadata": {},
   "outputs": [],
   "source": [
    "# importando o framework\n",
    "from frame_oasis.OASIS import OASIS\n",
    "from frame_windtw.WinDTW import WinDTW"
   ]
  },
  {
   "cell_type": "markdown",
   "metadata": {},
   "source": [
    "## Importação dos Detectores"
   ]
  },
  {
   "cell_type": "code",
   "execution_count": 25,
   "metadata": {},
   "outputs": [],
   "source": [
    "# Importando detectores de drift\n",
    "from detectores.ADWINDetector import ADWINDetector\n",
    "from detectores.DDMDetector import DDMDetector\n",
    "from detectores.EDDMDetector import EDDMDetector\n",
    "from detectores.FHDDMDetector import FHDDMDetector\n",
    "from detectores.HDDM_ADetector import HDDM_ADetector\n",
    "from detectores.PageHinkleyDetector import PageHinkleyDetector\n",
    "from detectores.HDDM_WDetector import HDDM_WDetector\n",
    "from detectores.KSWINDetector import KSWINDetector"
   ]
  },
  {
   "cell_type": "markdown",
   "metadata": {},
   "source": [
    "## Importação dos Regressores Off-line"
   ]
  },
  {
   "cell_type": "code",
   "execution_count": 26,
   "metadata": {},
   "outputs": [],
   "source": [
    "# Importando modelos offline\n",
    "from regressores.modelosOffline.LinearRegressionModelo import LinearRegressionModelo\n",
    "from regressores.modelosOffline.KneighborsRegressorModelo import KneighborsRegressorModelo\n",
    "from regressores.modelosOffline.LassoRegressionModelo import LassoRegressionModelo\n",
    "from regressores.modelosOffline.RidgeRegressionModelo import RidgeRegressionModelo\n",
    "from regressores.modelosOffline.SVRModelo import SVRModelo\n",
    "from regressores.modelosOffline.RandomForestModelo import RandomForestModelo\n",
    "from regressores.modelosOffline.MLPRegressorModelo import MLPRegressorModelo"
   ]
  },
  {
   "cell_type": "markdown",
   "metadata": {},
   "source": [
    "## Importação dos Regressores On-line"
   ]
  },
  {
   "cell_type": "code",
   "execution_count": 27,
   "metadata": {},
   "outputs": [],
   "source": [
    "# Importando modelos online\n",
    "from regressores.modelosOnline.BayesianLinearRegressionModelo import BayesianLinearRegressionModelo\n",
    "from regressores.modelosOnline.HoeffdingTreeRegressorModelo import HoeffdingTreeRegressorModelo\n",
    "from regressores.modelosOnline.KNNRegressorOnlineModelo import KNNRegressorOnlineModelo\n",
    "from regressores.modelosOnline.LinearRegressionOnlineModelo import LinearRegressionOnlineModelo\n",
    "from regressores.modelosOnline.OSELM import OSELMModelo"
   ]
  },
  {
   "cell_type": "markdown",
   "metadata": {},
   "source": [
    "# **2. Definindo os Dados e Parâmetros**"
   ]
  },
  {
   "cell_type": "markdown",
   "metadata": {},
   "source": [
    "## Dados"
   ]
  },
  {
   "cell_type": "code",
   "execution_count": 28,
   "metadata": {},
   "outputs": [],
   "source": [
    "# Lista de séries temporais\n",
    "series = [\n",
    "    \"AAPL\",\n",
    "    \"B3SA3.SA\",\n",
    "    \"IXIC\",\n",
    "    \"DJI\",\n",
    "    \"GSPC\",\n",
    "    \"BVSP\",\n",
    "    \"USDBRLX\"\n",
    "]"
   ]
  },
  {
   "cell_type": "markdown",
   "metadata": {},
   "source": [
    "## Parâmetros"
   ]
  },
  {
   "cell_type": "code",
   "execution_count": null,
   "metadata": {},
   "outputs": [],
   "source": [
    "# Parâmetros do experimento\n",
    "tamanho_batch = 300\n",
    "lags = 10\n",
    "repeticoes = 10  # Número de execuções para cada modelo-série"
   ]
  },
  {
   "cell_type": "markdown",
   "metadata": {},
   "source": [
    "# **3. Definindo os Modelos e Avaliadores**"
   ]
  },
  {
   "cell_type": "markdown",
   "metadata": {},
   "source": [
    "modelos = [\n",
    "    {\n",
    "        \"nome\": \"LR + HDDMA\",\n",
    "        \"avaliador\": AvaliadorBatch(),\n",
    "        \"modelo\": LinearRegressionModelo,\n",
    "        \"detector\": HDDM_ADetector\n",
    "    },\n",
    "    #{\n",
    "    #    \"nome\": \"KNN + HDDMA\",\n",
    "    #    \"avaliador\": AvaliadorBatch(),\n",
    "    #    \"modelo\": KNNRegressorOnlineModelo,\n",
    "    #    \"detector\": HDDM_ADetector\n",
    "    #},   \n",
    "    {\n",
    "        \"nome\": \"MLP + HDDMA\",\n",
    "        \"avaliador\": AvaliadorBatch(),\n",
    "        \"modelo\": MLPRegressorModelo,\n",
    "        \"detector\": HDDM_ADetector\n",
    "    },\n",
    "    {\n",
    "        \"nome\": \"Lasso + HDDMA\",\n",
    "        \"avaliador\": AvaliadorBatch(),\n",
    "        \"modelo\": LassoRegressionModelo,\n",
    "        \"detector\": HDDM_ADetector\n",
    "    },    \n",
    "    {\n",
    "        \"nome\": \"RF + HDDMA\",\n",
    "        \"avaliador\": AvaliadorBatch(),\n",
    "        \"modelo\": RandomForestModelo,\n",
    "        \"detector\": HDDM_ADetector\n",
    "    },\n",
    "    {\n",
    "        \"nome\": \"Ridge + HDDMA\",\n",
    "        \"avaliador\": AvaliadorBatch(),\n",
    "        \"modelo\": RidgeRegressionModelo,\n",
    "        \"detector\": HDDM_ADetector\n",
    "    },\n",
    "    {\n",
    "        \"nome\": \"SVR + HDDMA\",\n",
    "        \"avaliador\": AvaliadorBatch(),\n",
    "        \"modelo\": SVRModelo,\n",
    "        \"detector\": HDDM_ADetector\n",
    "    },   \n",
    "\n",
    "\n",
    "    {\n",
    "        \"nome\": \"BayesianLinear\",\n",
    "        \"avaliador\": AvaliadorPassivo(),\n",
    "        \"modelo\": BayesianLinearRegressionModelo,\n",
    "        \"detector\": None  # Passivo, não usa detector\n",
    "    },\n",
    "    {\n",
    "        \"nome\": \"HoeffdingTree\",\n",
    "        \"avaliador\": AvaliadorPassivo(),\n",
    "        \"modelo\": HoeffdingTreeRegressorModelo,\n",
    "        \"detector\": None  # Passivo, não usa detector\n",
    "    },\n",
    "    {\n",
    "        \"nome\": \"KNNRegressorOnline\",\n",
    "        \"avaliador\": AvaliadorPassivo(),\n",
    "        \"modelo\": KNNRegressorOnlineModelo,\n",
    "        \"detector\": None  # Passivo, não usa detector\n",
    "    },\n",
    "    {\n",
    "        \"nome\": \"LinearRegressionOnline\",\n",
    "        \"avaliador\": AvaliadorPassivo(),\n",
    "        \"modelo\": LinearRegressionOnlineModelo,\n",
    "        \"detector\": None  # Passivo, não usa detector\n",
    "    },    \n",
    "]"
   ]
  },
  {
   "cell_type": "markdown",
   "metadata": {},
   "source": [
    "modelos = [\n",
    "    {\n",
    "        \"nome\": \"Ridge + KSWINDetector\",\n",
    "        \"avaliador\": AvaliadorBatch(),\n",
    "        \"modelo\": RidgeRegressionModelo,\n",
    "        \"detector\": KSWINDetector\n",
    "    },\n",
    "    \n",
    "    {\n",
    "        \"nome\": \"Lasso + KSWINDetector\",\n",
    "        \"avaliador\": AvaliadorBatch(),\n",
    "        \"modelo\": LassoRegressionModelo,\n",
    "        \"detector\": KSWINDetector\n",
    "    },\n",
    "\n",
    "    {\n",
    "        \"nome\": \"LR + KSWINDetector\",\n",
    "        \"avaliador\": AvaliadorBatch(),\n",
    "        \"modelo\": LinearRegressionModelo,\n",
    "        \"detector\": KSWINDetector\n",
    "    },\n",
    "    \n",
    "    {\n",
    "        \"nome\": \"BayesianLinear\",\n",
    "        \"avaliador\": AvaliadorPassivo(),\n",
    "        \"modelo\": BayesianLinearRegressionModelo,\n",
    "        \"detector\": None  # Passivo, não usa detector\n",
    "    },\n",
    "    {\n",
    "        \"nome\": \"HoeffdingTree\",\n",
    "        \"avaliador\": AvaliadorPassivo(),\n",
    "        \"modelo\": HoeffdingTreeRegressorModelo,\n",
    "        \"detector\": None  # Passivo, não usa detector\n",
    "    },\n",
    "    {\n",
    "        \"nome\": \"KNNRegressorOnline\",\n",
    "        \"avaliador\": AvaliadorPassivo(),\n",
    "        \"modelo\": KNNRegressorOnlineModelo,\n",
    "        \"detector\": None  # Passivo, não usa detector\n",
    "    },\n",
    "    {\n",
    "        \"nome\": \"LinearRegressionOnline\",\n",
    "        \"avaliador\": AvaliadorPassivo(),\n",
    "        \"modelo\": LinearRegressionOnlineModelo,\n",
    "        \"detector\": None  # Passivo, não usa detector\n",
    "    },    \n",
    "]"
   ]
  },
  {
   "cell_type": "markdown",
   "metadata": {},
   "source": [
    "modelos = [\n",
    "    {\n",
    "        \"nome\": \"LR + KSWIN\",\n",
    "        \"avaliador\": AvaliadorBatch(),\n",
    "        \"modelo\": LinearRegressionModelo,\n",
    "        \"detector\": KSWINDetector\n",
    "    },\n",
    "    {\n",
    "        \"nome\": \"KNN + KSWIN\",\n",
    "        \"avaliador\": AvaliadorBatch(),\n",
    "        \"modelo\": KneighborsRegressorModelo,\n",
    "        \"detector\": KSWINDetector\n",
    "    },   \n",
    "    {\n",
    "        \"nome\": \"MLP + KSWIN\",\n",
    "        \"avaliador\": AvaliadorBatch(),\n",
    "        \"modelo\": MLPRegressorModelo,\n",
    "        \"detector\": KSWINDetector\n",
    "    },\n",
    "    {\n",
    "        \"nome\": \"Lasso + KSWIN\",\n",
    "        \"avaliador\": AvaliadorBatch(),\n",
    "        \"modelo\": LassoRegressionModelo,\n",
    "        \"detector\": KSWINDetector\n",
    "    },    \n",
    "    {\n",
    "        \"nome\": \"RF + KSWIN\",\n",
    "        \"avaliador\": AvaliadorBatch(),\n",
    "        \"modelo\": RandomForestModelo,\n",
    "        \"detector\": KSWINDetector\n",
    "    },\n",
    "    {\n",
    "        \"nome\": \"Ridge + KSWIN\",\n",
    "        \"avaliador\": AvaliadorBatch(),\n",
    "        \"modelo\": RidgeRegressionModelo,\n",
    "        \"detector\": KSWINDetector\n",
    "    },\n",
    "    {\n",
    "        \"nome\": \"SVR + KSWIN\",\n",
    "        \"avaliador\": AvaliadorBatch(),\n",
    "        \"modelo\": SVRModelo,\n",
    "        \"detector\": KSWINDetector\n",
    "    },   \n",
    "\n",
    "\n",
    "    {\n",
    "        \"nome\": \"BayesianLinear\",\n",
    "        \"avaliador\": AvaliadorPassivo(),\n",
    "        \"modelo\": BayesianLinearRegressionModelo,\n",
    "        \"detector\": None  # Passivo, não usa detector\n",
    "    },\n",
    "    {\n",
    "        \"nome\": \"HoeffdingTree\",\n",
    "        \"avaliador\": AvaliadorPassivo(),\n",
    "        \"modelo\": HoeffdingTreeRegressorModelo,\n",
    "        \"detector\": None  # Passivo, não usa detector\n",
    "    },\n",
    "    {\n",
    "        \"nome\": \"KNNRegressorOnline\",\n",
    "        \"avaliador\": AvaliadorPassivo(),\n",
    "        \"modelo\": KNNRegressorOnlineModelo,\n",
    "        \"detector\": None  # Passivo, não usa detector\n",
    "    },\n",
    "    {\n",
    "        \"nome\": \"LinearRegressionOnline\",\n",
    "        \"avaliador\": AvaliadorPassivo(),\n",
    "        \"modelo\": LinearRegressionOnlineModelo,\n",
    "        \"detector\": None  # Passivo, não usa detector\n",
    "    },    \n",
    "]"
   ]
  },
  {
   "cell_type": "markdown",
   "metadata": {},
   "source": [
    "modelos = [\n",
    "    {\n",
    "        \"nome\": \"Ridge + KSWINDetector\",\n",
    "        \"avaliador\": AvaliadorBatch(),\n",
    "        \"modelo\": RidgeRegressionModelo,\n",
    "        \"detector\": KSWINDetector\n",
    "    },\n",
    "    \n",
    "    {\n",
    "        \"nome\": \"Ridge + ADWINDetector\",\n",
    "        \"avaliador\": AvaliadorBatch(),\n",
    "        \"modelo\": RidgeRegressionModelo,\n",
    "        \"detector\": ADWINDetector\n",
    "    },\n",
    "    \n",
    "    {\n",
    "        \"nome\": \"Ridge + DDMDetector\",\n",
    "        \"avaliador\": AvaliadorBatch(),\n",
    "        \"modelo\": RidgeRegressionModelo,\n",
    "        \"detector\": DDMDetector\n",
    "    },\n",
    "     \n",
    "    {\n",
    "        \"nome\": \"Ridge + EDDMDetector\",\n",
    "        \"avaliador\": AvaliadorBatch(),\n",
    "        \"modelo\": RidgeRegressionModelo,\n",
    "        \"detector\": EDDMDetector\n",
    "    },\n",
    "     \n",
    "     \n",
    "     {\n",
    "        \"nome\": \"Ridge + FHDDMDetector\",\n",
    "        \"avaliador\": AvaliadorBatch(),\n",
    "        \"modelo\": RidgeRegressionModelo,\n",
    "        \"detector\": FHDDMDetector\n",
    "    },\n",
    "     \n",
    "    {\n",
    "        \"nome\": \"Ridge + HDDM_ADetector\",\n",
    "        \"avaliador\": AvaliadorBatch(),\n",
    "        \"modelo\": RidgeRegressionModelo,\n",
    "        \"detector\": HDDM_ADetector\n",
    "    },\n",
    "    \n",
    "    {\n",
    "        \"nome\": \"Ridge + PageHinkleyDetector\",\n",
    "        \"avaliador\": AvaliadorBatch(),\n",
    "        \"modelo\": RidgeRegressionModelo,\n",
    "        \"detector\": PageHinkleyDetector\n",
    "    },\n",
    "    \n",
    "    {\n",
    "        \"nome\": \"Ridge + HDDM_WDetector\",\n",
    "        \"avaliador\": AvaliadorBatch(),\n",
    "        \"modelo\": RidgeRegressionModelo,\n",
    "        \"detector\": HDDM_WDetector\n",
    "    },\n",
    "\n",
    "    {\n",
    "        \"nome\": \"BayesianLinear\",\n",
    "        \"avaliador\": AvaliadorPassivo(),\n",
    "        \"modelo\": BayesianLinearRegressionModelo,\n",
    "        \"detector\": None  # Passivo, não usa detector\n",
    "    },\n",
    "    {\n",
    "        \"nome\": \"HoeffdingTree\",\n",
    "        \"avaliador\": AvaliadorPassivo(),\n",
    "        \"modelo\": HoeffdingTreeRegressorModelo,\n",
    "        \"detector\": None  # Passivo, não usa detector\n",
    "    },\n",
    "    {\n",
    "        \"nome\": \"KNNRegressorOnline\",\n",
    "        \"avaliador\": AvaliadorPassivo(),\n",
    "        \"modelo\": KNNRegressorOnlineModelo,\n",
    "        \"detector\": None  # Passivo, não usa detector\n",
    "    },\n",
    "    {\n",
    "        \"nome\": \"LinearRegressionOnline\",\n",
    "        \"avaliador\": AvaliadorPassivo(),\n",
    "        \"modelo\": LinearRegressionOnlineModelo,\n",
    "        \"detector\": None  # Passivo, não usa detector\n",
    "    },    \n",
    "]"
   ]
  },
  {
   "cell_type": "code",
   "execution_count": 30,
   "metadata": {},
   "outputs": [],
   "source": [
    "modelos = [\n",
    "    \n",
    "    \n",
    "    {\n",
    "        \"nome\": \"Gabriel\",\n",
    "        \"avaliador\": WinDTW(LinearRegressionModelo, KSWINDetector, n_std=0, n_subsamples=5, n_sliding_size = int(tamanho_batch/2)),\n",
    "        \"modelo\": LinearRegressionModelo,\n",
    "        \"detector\": KSWINDetector\n",
    "    },   \n",
    "    \n",
    "    \n",
    "    {\n",
    "        \"nome\": \"LR + KSWIN\",\n",
    "        \"avaliador\": AvaliadorBatch(),\n",
    "        \"modelo\": LinearRegressionModelo,\n",
    "        \"detector\": KSWINDetector\n",
    "    },\n",
    "      \n",
    "\n",
    "\n",
    "    {\n",
    "        \"nome\": \"BayesianLinear\",\n",
    "        \"avaliador\": AvaliadorPassivo(),\n",
    "        \"modelo\": BayesianLinearRegressionModelo,\n",
    "        \"detector\": None  # Passivo, não usa detector\n",
    "    },\n",
    "    \n",
    "]"
   ]
  },
  {
   "cell_type": "markdown",
   "metadata": {},
   "source": [
    "# **4. Executando o Experimento**"
   ]
  },
  {
   "cell_type": "code",
   "execution_count": 31,
   "metadata": {},
   "outputs": [
    {
     "name": "stdout",
     "output_type": "stream",
     "text": [
      "Executando Gabriel na série: AAPL\n",
      "Executando LR + KSWIN na série: AAPL\n",
      "Executando BayesianLinear na série: AAPL\n",
      "Executando Gabriel na série: B3SA3.SA\n",
      "Executando LR + KSWIN na série: B3SA3.SA\n",
      "Executando BayesianLinear na série: B3SA3.SA\n",
      "Executando Gabriel na série: IXIC\n",
      "Executando LR + KSWIN na série: IXIC\n",
      "Executando BayesianLinear na série: IXIC\n",
      "Executando Gabriel na série: DJI\n",
      "Executando LR + KSWIN na série: DJI\n",
      "Executando BayesianLinear na série: DJI\n",
      "Executando Gabriel na série: GSPC\n",
      "Executando LR + KSWIN na série: GSPC\n",
      "Executando BayesianLinear na série: GSPC\n",
      "Executando Gabriel na série: BVSP\n",
      "Executando LR + KSWIN na série: BVSP\n",
      "Executando BayesianLinear na série: BVSP\n",
      "Executando Gabriel na série: USDBRLX\n",
      "Executando LR + KSWIN na série: USDBRLX\n",
      "Executando BayesianLinear na série: USDBRLX\n"
     ]
    }
   ],
   "source": [
    "# Criando e executando o experimento\n",
    "experimento = Experimento(\n",
    "    series=series,\n",
    "    modelos=modelos,\n",
    "    tamanho_batch=tamanho_batch,\n",
    "    lags=lags,\n",
    "    repeticoes=repeticoes\n",
    ")\n",
    "\n",
    "resultados = experimento.executar()"
   ]
  },
  {
   "cell_type": "code",
   "execution_count": 32,
   "metadata": {},
   "outputs": [
    {
     "name": "stdout",
     "output_type": "stream",
     "text": [
      "\n",
      "Resultados salvos em: Experimento_frameworks.csv\n"
     ]
    },
    {
     "data": {
      "text/plain": [
       "'Experimento_frameworks.csv'"
      ]
     },
     "execution_count": 32,
     "metadata": {},
     "output_type": "execute_result"
    }
   ],
   "source": [
    "# salvando os resultados\n",
    "arquivo_salvamento = \"Experimento_frameworks.csv\"\n",
    "FileManager.salvar_resultados(resultados, arquivo_salvamento)"
   ]
  },
  {
   "cell_type": "markdown",
   "metadata": {},
   "source": [
    "# **5. Análise Estatística dos Resultados**"
   ]
  },
  {
   "cell_type": "markdown",
   "metadata": {},
   "source": [
    "## Leitura dos Resultados"
   ]
  },
  {
   "cell_type": "code",
   "execution_count": 33,
   "metadata": {},
   "outputs": [],
   "source": [
    "# 1. Ler o arquivo CSV\n",
    "df = pd.read_csv(arquivo_salvamento)"
   ]
  },
  {
   "cell_type": "markdown",
   "metadata": {},
   "source": [
    "## Tabelas de Resultados"
   ]
  },
  {
   "cell_type": "code",
   "execution_count": 34,
   "metadata": {},
   "outputs": [],
   "source": [
    "# 3. Agrupar por modelo e calcular estatísticas\n",
    "summary = df.groupby(['serie', 'modelo']).agg(\n",
    "    mae_mean=('mae', 'mean'),\n",
    "    mae_std=('mae', 'std'),\n",
    "    qtd_deteccoes_mean=('qtd_deteccoes', 'mean'),\n",
    "    qtd_deteccoes_std=('qtd_deteccoes', 'std')\n",
    ").reset_index()"
   ]
  },
  {
   "cell_type": "markdown",
   "metadata": {},
   "source": [
    "### Média do MAE"
   ]
  },
  {
   "cell_type": "code",
   "execution_count": 35,
   "metadata": {},
   "outputs": [
    {
     "data": {
      "text/html": [
       "<div>\n",
       "<style scoped>\n",
       "    .dataframe tbody tr th:only-of-type {\n",
       "        vertical-align: middle;\n",
       "    }\n",
       "\n",
       "    .dataframe tbody tr th {\n",
       "        vertical-align: top;\n",
       "    }\n",
       "\n",
       "    .dataframe thead th {\n",
       "        text-align: right;\n",
       "    }\n",
       "</style>\n",
       "<table border=\"1\" class=\"dataframe\">\n",
       "  <thead>\n",
       "    <tr style=\"text-align: right;\">\n",
       "      <th>modelo</th>\n",
       "      <th>BayesianLinear</th>\n",
       "      <th>Gabriel</th>\n",
       "      <th>LR + KSWIN</th>\n",
       "    </tr>\n",
       "    <tr>\n",
       "      <th>serie</th>\n",
       "      <th></th>\n",
       "      <th></th>\n",
       "      <th></th>\n",
       "    </tr>\n",
       "  </thead>\n",
       "  <tbody>\n",
       "    <tr>\n",
       "      <th>AAPL</th>\n",
       "      <td>0.007845</td>\n",
       "      <td>0.009485</td>\n",
       "      <td>0.009485</td>\n",
       "    </tr>\n",
       "    <tr>\n",
       "      <th>B3SA3.SA</th>\n",
       "      <td>0.031424</td>\n",
       "      <td>0.041265</td>\n",
       "      <td>0.041265</td>\n",
       "    </tr>\n",
       "    <tr>\n",
       "      <th>BVSP</th>\n",
       "      <td>0.017153</td>\n",
       "      <td>0.019058</td>\n",
       "      <td>0.019058</td>\n",
       "    </tr>\n",
       "    <tr>\n",
       "      <th>DJI</th>\n",
       "      <td>0.013330</td>\n",
       "      <td>0.015977</td>\n",
       "      <td>0.015977</td>\n",
       "    </tr>\n",
       "    <tr>\n",
       "      <th>GSPC</th>\n",
       "      <td>0.005621</td>\n",
       "      <td>0.006002</td>\n",
       "      <td>0.006002</td>\n",
       "    </tr>\n",
       "    <tr>\n",
       "      <th>IXIC</th>\n",
       "      <td>0.008617</td>\n",
       "      <td>0.008970</td>\n",
       "      <td>0.008970</td>\n",
       "    </tr>\n",
       "    <tr>\n",
       "      <th>USDBRLX</th>\n",
       "      <td>0.020115</td>\n",
       "      <td>0.025035</td>\n",
       "      <td>0.025035</td>\n",
       "    </tr>\n",
       "  </tbody>\n",
       "</table>\n",
       "</div>"
      ],
      "text/plain": [
       "modelo    BayesianLinear   Gabriel  LR + KSWIN\n",
       "serie                                         \n",
       "AAPL            0.007845  0.009485    0.009485\n",
       "B3SA3.SA        0.031424  0.041265    0.041265\n",
       "BVSP            0.017153  0.019058    0.019058\n",
       "DJI             0.013330  0.015977    0.015977\n",
       "GSPC            0.005621  0.006002    0.006002\n",
       "IXIC            0.008617  0.008970    0.008970\n",
       "USDBRLX         0.020115  0.025035    0.025035"
      ]
     },
     "execution_count": 35,
     "metadata": {},
     "output_type": "execute_result"
    }
   ],
   "source": [
    "# Tabela para a média do MAE\n",
    "mae_mean_table = summary.pivot(index='serie', columns='modelo', values='mae_mean')\n",
    "mae_mean_table"
   ]
  },
  {
   "cell_type": "markdown",
   "metadata": {},
   "source": [
    "### Desvio do MAE"
   ]
  },
  {
   "cell_type": "code",
   "execution_count": 36,
   "metadata": {},
   "outputs": [
    {
     "data": {
      "text/html": [
       "<div>\n",
       "<style scoped>\n",
       "    .dataframe tbody tr th:only-of-type {\n",
       "        vertical-align: middle;\n",
       "    }\n",
       "\n",
       "    .dataframe tbody tr th {\n",
       "        vertical-align: top;\n",
       "    }\n",
       "\n",
       "    .dataframe thead th {\n",
       "        text-align: right;\n",
       "    }\n",
       "</style>\n",
       "<table border=\"1\" class=\"dataframe\">\n",
       "  <thead>\n",
       "    <tr style=\"text-align: right;\">\n",
       "      <th>modelo</th>\n",
       "      <th>BayesianLinear</th>\n",
       "      <th>Gabriel</th>\n",
       "      <th>LR + KSWIN</th>\n",
       "    </tr>\n",
       "    <tr>\n",
       "      <th>serie</th>\n",
       "      <th></th>\n",
       "      <th></th>\n",
       "      <th></th>\n",
       "    </tr>\n",
       "  </thead>\n",
       "  <tbody>\n",
       "    <tr>\n",
       "      <th>AAPL</th>\n",
       "      <td>0.0</td>\n",
       "      <td>0.0</td>\n",
       "      <td>0.0</td>\n",
       "    </tr>\n",
       "    <tr>\n",
       "      <th>B3SA3.SA</th>\n",
       "      <td>0.0</td>\n",
       "      <td>0.0</td>\n",
       "      <td>0.0</td>\n",
       "    </tr>\n",
       "    <tr>\n",
       "      <th>BVSP</th>\n",
       "      <td>0.0</td>\n",
       "      <td>0.0</td>\n",
       "      <td>0.0</td>\n",
       "    </tr>\n",
       "    <tr>\n",
       "      <th>DJI</th>\n",
       "      <td>0.0</td>\n",
       "      <td>0.0</td>\n",
       "      <td>0.0</td>\n",
       "    </tr>\n",
       "    <tr>\n",
       "      <th>GSPC</th>\n",
       "      <td>0.0</td>\n",
       "      <td>0.0</td>\n",
       "      <td>0.0</td>\n",
       "    </tr>\n",
       "    <tr>\n",
       "      <th>IXIC</th>\n",
       "      <td>0.0</td>\n",
       "      <td>0.0</td>\n",
       "      <td>0.0</td>\n",
       "    </tr>\n",
       "    <tr>\n",
       "      <th>USDBRLX</th>\n",
       "      <td>0.0</td>\n",
       "      <td>0.0</td>\n",
       "      <td>0.0</td>\n",
       "    </tr>\n",
       "  </tbody>\n",
       "</table>\n",
       "</div>"
      ],
      "text/plain": [
       "modelo    BayesianLinear  Gabriel  LR + KSWIN\n",
       "serie                                        \n",
       "AAPL                 0.0      0.0         0.0\n",
       "B3SA3.SA             0.0      0.0         0.0\n",
       "BVSP                 0.0      0.0         0.0\n",
       "DJI                  0.0      0.0         0.0\n",
       "GSPC                 0.0      0.0         0.0\n",
       "IXIC                 0.0      0.0         0.0\n",
       "USDBRLX              0.0      0.0         0.0"
      ]
     },
     "execution_count": 36,
     "metadata": {},
     "output_type": "execute_result"
    }
   ],
   "source": [
    "# Tabela para o desvio padrão do MAE\n",
    "mae_std_table = summary.pivot(index='serie', columns='modelo', values='mae_std')\n",
    "mae_std_table"
   ]
  },
  {
   "cell_type": "markdown",
   "metadata": {},
   "source": [
    "### Média Detecções"
   ]
  },
  {
   "cell_type": "code",
   "execution_count": 37,
   "metadata": {},
   "outputs": [
    {
     "data": {
      "text/html": [
       "<div>\n",
       "<style scoped>\n",
       "    .dataframe tbody tr th:only-of-type {\n",
       "        vertical-align: middle;\n",
       "    }\n",
       "\n",
       "    .dataframe tbody tr th {\n",
       "        vertical-align: top;\n",
       "    }\n",
       "\n",
       "    .dataframe thead th {\n",
       "        text-align: right;\n",
       "    }\n",
       "</style>\n",
       "<table border=\"1\" class=\"dataframe\">\n",
       "  <thead>\n",
       "    <tr style=\"text-align: right;\">\n",
       "      <th>modelo</th>\n",
       "      <th>BayesianLinear</th>\n",
       "      <th>Gabriel</th>\n",
       "      <th>LR + KSWIN</th>\n",
       "    </tr>\n",
       "    <tr>\n",
       "      <th>serie</th>\n",
       "      <th></th>\n",
       "      <th></th>\n",
       "      <th></th>\n",
       "    </tr>\n",
       "  </thead>\n",
       "  <tbody>\n",
       "    <tr>\n",
       "      <th>AAPL</th>\n",
       "      <td>NaN</td>\n",
       "      <td>32.0</td>\n",
       "      <td>32.0</td>\n",
       "    </tr>\n",
       "    <tr>\n",
       "      <th>B3SA3.SA</th>\n",
       "      <td>NaN</td>\n",
       "      <td>12.0</td>\n",
       "      <td>12.0</td>\n",
       "    </tr>\n",
       "    <tr>\n",
       "      <th>BVSP</th>\n",
       "      <td>NaN</td>\n",
       "      <td>24.0</td>\n",
       "      <td>24.0</td>\n",
       "    </tr>\n",
       "    <tr>\n",
       "      <th>DJI</th>\n",
       "      <td>NaN</td>\n",
       "      <td>17.0</td>\n",
       "      <td>17.0</td>\n",
       "    </tr>\n",
       "    <tr>\n",
       "      <th>GSPC</th>\n",
       "      <td>NaN</td>\n",
       "      <td>71.0</td>\n",
       "      <td>71.0</td>\n",
       "    </tr>\n",
       "    <tr>\n",
       "      <th>IXIC</th>\n",
       "      <td>NaN</td>\n",
       "      <td>39.0</td>\n",
       "      <td>39.0</td>\n",
       "    </tr>\n",
       "    <tr>\n",
       "      <th>USDBRLX</th>\n",
       "      <td>NaN</td>\n",
       "      <td>16.0</td>\n",
       "      <td>16.0</td>\n",
       "    </tr>\n",
       "  </tbody>\n",
       "</table>\n",
       "</div>"
      ],
      "text/plain": [
       "modelo    BayesianLinear  Gabriel  LR + KSWIN\n",
       "serie                                        \n",
       "AAPL                 NaN     32.0        32.0\n",
       "B3SA3.SA             NaN     12.0        12.0\n",
       "BVSP                 NaN     24.0        24.0\n",
       "DJI                  NaN     17.0        17.0\n",
       "GSPC                 NaN     71.0        71.0\n",
       "IXIC                 NaN     39.0        39.0\n",
       "USDBRLX              NaN     16.0        16.0"
      ]
     },
     "execution_count": 37,
     "metadata": {},
     "output_type": "execute_result"
    }
   ],
   "source": [
    "# Tabela para a média das detecções\n",
    "deteccoes_mean_table = summary.pivot(index='serie', columns='modelo', values='qtd_deteccoes_mean')\n",
    "deteccoes_mean_table"
   ]
  },
  {
   "cell_type": "markdown",
   "metadata": {},
   "source": [
    "## Teste Estatístico"
   ]
  },
  {
   "cell_type": "code",
   "execution_count": 38,
   "metadata": {},
   "outputs": [
    {
     "data": {
      "text/html": [
       "<div>\n",
       "<style scoped>\n",
       "    .dataframe tbody tr th:only-of-type {\n",
       "        vertical-align: middle;\n",
       "    }\n",
       "\n",
       "    .dataframe tbody tr th {\n",
       "        vertical-align: top;\n",
       "    }\n",
       "\n",
       "    .dataframe thead th {\n",
       "        text-align: right;\n",
       "    }\n",
       "</style>\n",
       "<table border=\"1\" class=\"dataframe\">\n",
       "  <thead>\n",
       "    <tr style=\"text-align: right;\">\n",
       "      <th></th>\n",
       "      <th>modelo</th>\n",
       "      <th>BayesianLinear</th>\n",
       "      <th>Gabriel</th>\n",
       "      <th>LR + KSWIN</th>\n",
       "    </tr>\n",
       "    <tr>\n",
       "      <th>serie</th>\n",
       "      <th>repeticao</th>\n",
       "      <th></th>\n",
       "      <th></th>\n",
       "      <th></th>\n",
       "    </tr>\n",
       "  </thead>\n",
       "  <tbody>\n",
       "    <tr>\n",
       "      <th rowspan=\"5\" valign=\"top\">AAPL</th>\n",
       "      <th>1</th>\n",
       "      <td>0.007845</td>\n",
       "      <td>0.009485</td>\n",
       "      <td>0.009485</td>\n",
       "    </tr>\n",
       "    <tr>\n",
       "      <th>2</th>\n",
       "      <td>0.007845</td>\n",
       "      <td>0.009485</td>\n",
       "      <td>0.009485</td>\n",
       "    </tr>\n",
       "    <tr>\n",
       "      <th>3</th>\n",
       "      <td>0.007845</td>\n",
       "      <td>0.009485</td>\n",
       "      <td>0.009485</td>\n",
       "    </tr>\n",
       "    <tr>\n",
       "      <th>4</th>\n",
       "      <td>0.007845</td>\n",
       "      <td>0.009485</td>\n",
       "      <td>0.009485</td>\n",
       "    </tr>\n",
       "    <tr>\n",
       "      <th>5</th>\n",
       "      <td>0.007845</td>\n",
       "      <td>0.009485</td>\n",
       "      <td>0.009485</td>\n",
       "    </tr>\n",
       "    <tr>\n",
       "      <th>...</th>\n",
       "      <th>...</th>\n",
       "      <td>...</td>\n",
       "      <td>...</td>\n",
       "      <td>...</td>\n",
       "    </tr>\n",
       "    <tr>\n",
       "      <th rowspan=\"5\" valign=\"top\">USDBRLX</th>\n",
       "      <th>6</th>\n",
       "      <td>0.020115</td>\n",
       "      <td>0.025035</td>\n",
       "      <td>0.025035</td>\n",
       "    </tr>\n",
       "    <tr>\n",
       "      <th>7</th>\n",
       "      <td>0.020115</td>\n",
       "      <td>0.025035</td>\n",
       "      <td>0.025035</td>\n",
       "    </tr>\n",
       "    <tr>\n",
       "      <th>8</th>\n",
       "      <td>0.020115</td>\n",
       "      <td>0.025035</td>\n",
       "      <td>0.025035</td>\n",
       "    </tr>\n",
       "    <tr>\n",
       "      <th>9</th>\n",
       "      <td>0.020115</td>\n",
       "      <td>0.025035</td>\n",
       "      <td>0.025035</td>\n",
       "    </tr>\n",
       "    <tr>\n",
       "      <th>10</th>\n",
       "      <td>0.020115</td>\n",
       "      <td>0.025035</td>\n",
       "      <td>0.025035</td>\n",
       "    </tr>\n",
       "  </tbody>\n",
       "</table>\n",
       "<p>70 rows × 3 columns</p>\n",
       "</div>"
      ],
      "text/plain": [
       "modelo             BayesianLinear   Gabriel  LR + KSWIN\n",
       "serie   repeticao                                      \n",
       "AAPL    1                0.007845  0.009485    0.009485\n",
       "        2                0.007845  0.009485    0.009485\n",
       "        3                0.007845  0.009485    0.009485\n",
       "        4                0.007845  0.009485    0.009485\n",
       "        5                0.007845  0.009485    0.009485\n",
       "...                           ...       ...         ...\n",
       "USDBRLX 6                0.020115  0.025035    0.025035\n",
       "        7                0.020115  0.025035    0.025035\n",
       "        8                0.020115  0.025035    0.025035\n",
       "        9                0.020115  0.025035    0.025035\n",
       "        10               0.020115  0.025035    0.025035\n",
       "\n",
       "[70 rows x 3 columns]"
      ]
     },
     "execution_count": 38,
     "metadata": {},
     "output_type": "execute_result"
    }
   ],
   "source": [
    "# 4. Preparar dados para autorank (uma linha por repetição, colunas por modelo)\n",
    "df_mae = df.pivot_table(index=[\"serie\", \"repeticao\"], columns=\"modelo\", values=\"mae\")\n",
    "# Remover qualquer valor NaN para análise (caso haja)\n",
    "df_mae = df_mae.dropna()\n",
    "# Tabela de desempenho\n",
    "df_mae"
   ]
  },
  {
   "cell_type": "code",
   "execution_count": 39,
   "metadata": {},
   "outputs": [
    {
     "name": "stdout",
     "output_type": "stream",
     "text": [
      "The statistical analysis was conducted for 3 populations with 70 paired samples.\n",
      "The family-wise significance level of the tests is alpha=0.050.\n",
      "We rejected the null hypothesis that the population is normal for the populations Gabriel (p=0.000), LR + KSWIN (p=0.000), and BayesianLinear (p=0.000). Therefore, we assume that not all populations are normal.\n",
      "Because we have more than two populations and the populations and some of them are not normal, we use the non-parametric Friedman test as omnibus test to determine if there are any significant differences between the median values of the populations. We use the post-hoc Nemenyi test to infer which differences are significant. We report the median (MD), the median absolute deviation (MAD) and the mean rank (MR) among all populations over the samples. Differences between populations are significant, if the difference of the mean rank is greater than the critical distance CD=0.396 of the Nemenyi test.\n",
      "We reject the null hypothesis (p=0.000) of the Friedman test that there is no difference in the central tendency of the populations Gabriel (MD=-0.016+-0.005, MAD=0.007, MR=2.500), LR + KSWIN (MD=-0.016+-0.005, MAD=0.007, MR=2.500), and BayesianLinear (MD=-0.013+-0.005, MAD=0.005, MR=1.000). Therefore, we assume that there is a statistically significant difference between the median values of the populations.\n",
      "Based on the post-hoc Nemenyi test, we assume that there are no significant differences within the following groups: Gabriel and LR + KSWIN. All other differences are significant.\n"
     ]
    }
   ],
   "source": [
    "# computing the most appropriate statistical test\n",
    "results = autorank(-df_mae)\n",
    "# printing the report\n",
    "create_report(results)"
   ]
  },
  {
   "cell_type": "code",
   "execution_count": 40,
   "metadata": {},
   "outputs": [
    {
     "data": {
      "text/plain": [
       "<Axes: >"
      ]
     },
     "execution_count": 40,
     "metadata": {},
     "output_type": "execute_result"
    },
    {
     "data": {
      "image/png": "[encoded data removed]",
      "text/plain": [
       "<Figure size 600x145 with 1 Axes>"
      ]
     },
     "metadata": {},
     "output_type": "display_data"
    }
   ],
   "source": [
    "# plotting the results\n",
    "plot_stats(results, allow_insignificant=True)"
   ]
  }
 ],
 "metadata": {
  "kernelspec": {
   "display_name": "Python 3",
   "language": "python",
   "name": "python3"
  },
  "language_info": {
   "codemirror_mode": {
    "name": "ipython",
    "version": 3
   },
   "file_extension": ".py",
   "mimetype": "text/x-python",
   "name": "python",
   "nbconvert_exporter": "python",
   "pygments_lexer": "ipython3",
   "version": "3.12.5"
  }
 },
 "nbformat": 4,
 "nbformat_minor": 2
}
